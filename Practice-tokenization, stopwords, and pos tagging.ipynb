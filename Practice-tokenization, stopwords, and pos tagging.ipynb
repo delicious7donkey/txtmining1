{
 "cells": [
  {
   "cell_type": "code",
   "execution_count": 2,
   "metadata": {
    "collapsed": false,
    "deletable": true,
    "editable": true
   },
   "outputs": [],
   "source": [
    "# http://www.bbc.com/news/business-38930699\n",
    "text = open('ticking_spotify.txt').read()\n",
    "sents = [line.strip() for line in text.splitlines()]"
   ]
  },
  {
   "cell_type": "markdown",
   "metadata": {
    "deletable": true,
    "editable": true
   },
   "source": [
    "## Tokenization"
   ]
  },
  {
   "cell_type": "markdown",
   "metadata": {
    "deletable": true,
    "editable": true
   },
   "source": [
    "### Using nltk"
   ]
  },
  {
   "cell_type": "markdown",
   "metadata": {
    "deletable": true,
    "editable": true
   },
   "source": [
    "Install nltk"
   ]
  },
  {
   "cell_type": "code",
   "execution_count": 3,
   "metadata": {
    "collapsed": false,
    "deletable": true,
    "editable": true
   },
   "outputs": [
    {
     "name": "stdout",
     "output_type": "stream",
     "text": [
      "Requirement already up-to-date: nltk in /usr/local/lib/python3.6/site-packages\n",
      "Requirement already up-to-date: six in /usr/local/lib/python3.6/site-packages (from nltk)\n"
     ]
    }
   ],
   "source": [
    "!pip3 install nltk -U"
   ]
  },
  {
   "cell_type": "markdown",
   "metadata": {},
   "source": [
    "Download tokenization model"
   ]
  },
  {
   "cell_type": "code",
   "execution_count": 4,
   "metadata": {
    "collapsed": false,
    "scrolled": true
   },
   "outputs": [
    {
     "name": "stdout",
     "output_type": "stream",
     "text": [
      "[nltk_data] Downloading package punkt to /Users/jjc/nltk_data...\n",
      "[nltk_data]   Package punkt is already up-to-date!\n"
     ]
    },
    {
     "data": {
      "text/plain": [
       "True"
      ]
     },
     "execution_count": 4,
     "metadata": {},
     "output_type": "execute_result"
    }
   ],
   "source": [
    "import nltk\n",
    "nltk.download('punkt')"
   ]
  },
  {
   "cell_type": "code",
   "execution_count": 5,
   "metadata": {
    "collapsed": false
   },
   "outputs": [
    {
     "data": {
      "text/plain": [
       "\"It's amazing to think that just 10 years ago, flat-rate digital music streaming services were a mere gleam in the eye of industry executives.\""
      ]
     },
     "execution_count": 5,
     "metadata": {},
     "output_type": "execute_result"
    }
   ],
   "source": [
    "sents[1]"
   ]
  },
  {
   "cell_type": "code",
   "execution_count": 13,
   "metadata": {
    "collapsed": false
   },
   "outputs": [
    {
     "name": "stdout",
     "output_type": "stream",
     "text": [
      "['It', \"'s\", 'amazing', 'to', 'think', 'that', 'just', '10', 'years', 'ago', ',', 'flat-rate', 'digital', 'music', 'streaming', 'services', 'were', 'a', 'mere', 'gleam', 'in', 'the', 'eye', 'of', 'industry', 'executives', '.']\n"
     ]
    }
   ],
   "source": [
    "from nltk import word_tokenize\n",
    "print(word_tokenize(sents[1]))"
   ]
  },
  {
   "cell_type": "code",
   "execution_count": 11,
   "metadata": {
    "collapsed": false
   },
   "outputs": [
    {
     "name": "stdout",
     "output_type": "stream",
     "text": [
      "['It', \"'\", 's', 'amazing', 'to', 'think', 'that', 'just', '10', 'years', 'ago', ',', 'flat', '-', 'rate', 'digital', 'music', 'streaming', 'services', 'were', 'a', 'mere', 'gleam', 'in', 'the', 'eye', 'of', 'industry', 'executives', '.']\n"
     ]
    }
   ],
   "source": [
    "from nltk import wordpunct_tokenize\n",
    "print(wordpunct_tokenize(sents[1]))"
   ]
  },
  {
   "cell_type": "markdown",
   "metadata": {},
   "source": [
    "### Filter stopwords"
   ]
  },
  {
   "cell_type": "markdown",
   "metadata": {},
   "source": [
    "Download stopword corpus"
   ]
  },
  {
   "cell_type": "code",
   "execution_count": 6,
   "metadata": {
    "collapsed": false
   },
   "outputs": [
    {
     "name": "stdout",
     "output_type": "stream",
     "text": [
      "[nltk_data] Downloading package stopwords to /Users/jjc/nltk_data...\n",
      "[nltk_data]   Package stopwords is already up-to-date!\n"
     ]
    },
    {
     "data": {
      "text/plain": [
       "True"
      ]
     },
     "execution_count": 6,
     "metadata": {},
     "output_type": "execute_result"
    }
   ],
   "source": [
    "import nltk\n",
    "nltk.download('stopwords')"
   ]
  },
  {
   "cell_type": "markdown",
   "metadata": {},
   "source": [
    "load stopwords and save it in a stopword set"
   ]
  },
  {
   "cell_type": "code",
   "execution_count": 11,
   "metadata": {
    "collapsed": true
   },
   "outputs": [],
   "source": [
    "from nltk.corpus import stopwords\n",
    "stopwords = set(stopwords.words('english'))"
   ]
  },
  {
   "cell_type": "code",
   "execution_count": 12,
   "metadata": {
    "collapsed": false,
    "scrolled": true
   },
   "outputs": [
    {
     "name": "stdout",
     "output_type": "stream",
     "text": [
      "{'than', 'were', 'after', 'yourselves', 'such', 'so', 'needn', 'from', 'wouldn', 'again', 'having', 'this', 'ours', 'mightn', 're', 'down', 'have', 'whom', 'y', 'own', 'these', 'here', 'now', 'not', 'once', 'my', 'should', 'between', 'until', 'any', 'doing', 'd', 'your', 'other', 'shan', 'during', 'hadn', 'with', 'myself', 'been', 'himself', 'out', 'll', 'mustn', 'shouldn', 'yourself', 'won', 'under', 'didn', 't', 'both', 'yours', 'at', 'where', 'is', 'it', 'up', 'which', 'over', 's', 'they', 'by', 'our', 'itself', 'who', 'then', 'ma', 'did', 'against', 'wasn', 'because', 'his', 'her', 'the', 'haven', 'on', 'very', 'few', 'me', 'their', 'are', 'had', 'she', 'an', 'of', 'all', 'herself', 'but', 'when', 'how', 'through', 'into', 'nor', 'm', 'has', 'being', 'before', 'only', 'them', 'hers', 'in', 'doesn', 'some', 've', 'can', 'isn', 'am', 'him', 'you', 'no', 'i', 'will', 'for', 'and', 'ourselves', 'while', 'below', 'hasn', 'what', 'further', 'ain', 'weren', 'do', 'there', 'theirs', 'be', 'does', 'if', 'or', 'each', 'off', 'couldn', 'most', 'we', 'was', 'just', 'about', 'that', 'its', 'as', 'same', 'above', 'aren', 'those', 'don', 'why', 'he', 'o', 'more', 'to', 'too', 'themselves', 'a'}\n"
     ]
    }
   ],
   "source": [
    "print(stopwords)"
   ]
  },
  {
   "cell_type": "markdown",
   "metadata": {},
   "source": [
    "filter example"
   ]
  },
  {
   "cell_type": "code",
   "execution_count": 14,
   "metadata": {
    "collapsed": false
   },
   "outputs": [
    {
     "name": "stdout",
     "output_type": "stream",
     "text": [
      "['It', \"'s\", 'amazing', 'think', '10', 'years', 'ago', ',', 'flat-rate', 'digital', 'music', 'streaming', 'services', 'mere', 'gleam', 'eye', 'industry', 'executives', '.']\n"
     ]
    }
   ],
   "source": [
    "words = word_tokenize(sents[1])\n",
    "# for word in words:\n",
    "#     if word not in stopwords:\n",
    "#         print(word)\n",
    "print([word for word in words if word not in stopwords])"
   ]
  },
  {
   "cell_type": "code",
   "execution_count": 20,
   "metadata": {
    "collapsed": false
   },
   "outputs": [
    {
     "name": "stdout",
     "output_type": "stream",
     "text": [
      "to\n",
      "that\n",
      "just\n",
      ",\n",
      "were\n",
      "a\n",
      "in\n",
      "the\n",
      "of\n",
      ".\n"
     ]
    }
   ],
   "source": [
    "for word in words:\n",
    "    if word in stopwords:\n",
    "        print(word)"
   ]
  },
  {
   "cell_type": "markdown",
   "metadata": {},
   "source": [
    "Take punctuation into account"
   ]
  },
  {
   "cell_type": "code",
   "execution_count": 18,
   "metadata": {
    "collapsed": false
   },
   "outputs": [
    {
     "data": {
      "text/plain": [
       "'!\"#$%&\\'()*+,-./:;<=>?@[\\\\]^_`{|}~'"
      ]
     },
     "execution_count": 18,
     "metadata": {},
     "output_type": "execute_result"
    }
   ],
   "source": [
    "import string\n",
    "string.punctuation"
   ]
  },
  {
   "cell_type": "markdown",
   "metadata": {},
   "source": [
    "Add punctuation into stopword set"
   ]
  },
  {
   "cell_type": "code",
   "execution_count": 19,
   "metadata": {
    "collapsed": true
   },
   "outputs": [],
   "source": [
    "# you can add one at a time\n",
    "for symbol in string.punctuation:\n",
    "    stopwords.add(symbol)\n",
    "# or update a sequence into the set\n",
    "stopwords.update(string.punctuation)"
   ]
  },
  {
   "cell_type": "markdown",
   "metadata": {
    "collapsed": true,
    "deletable": true,
    "editable": true
   },
   "source": [
    "### Part-of-speech tagging"
   ]
  },
  {
   "cell_type": "markdown",
   "metadata": {},
   "source": [
    "Download nltk POS tagging model"
   ]
  },
  {
   "cell_type": "code",
   "execution_count": 21,
   "metadata": {
    "collapsed": false,
    "deletable": true,
    "editable": true
   },
   "outputs": [
    {
     "name": "stdout",
     "output_type": "stream",
     "text": [
      "[nltk_data] Downloading package averaged_perceptron_tagger to\n",
      "[nltk_data]     /Users/jjc/nltk_data...\n",
      "[nltk_data]   Unzipping taggers/averaged_perceptron_tagger.zip.\n"
     ]
    },
    {
     "data": {
      "text/plain": [
       "True"
      ]
     },
     "execution_count": 21,
     "metadata": {},
     "output_type": "execute_result"
    }
   ],
   "source": [
    "import nltk\n",
    "nltk.download('averaged_perceptron_tagger')"
   ]
  },
  {
   "cell_type": "code",
   "execution_count": 36,
   "metadata": {
    "collapsed": true
   },
   "outputs": [],
   "source": [
    "words = word_tokenize(sents[1])"
   ]
  },
  {
   "cell_type": "code",
   "execution_count": 22,
   "metadata": {
    "collapsed": false,
    "scrolled": true
   },
   "outputs": [
    {
     "data": {
      "text/plain": [
       "[('It', 'PRP'),\n",
       " (\"'s\", 'VBZ'),\n",
       " ('amazing', 'JJ'),\n",
       " ('to', 'TO'),\n",
       " ('think', 'VB'),\n",
       " ('that', 'DT'),\n",
       " ('just', 'RB'),\n",
       " ('10', 'CD'),\n",
       " ('years', 'NNS'),\n",
       " ('ago', 'RB'),\n",
       " (',', ','),\n",
       " ('flat-rate', 'JJ'),\n",
       " ('digital', 'JJ'),\n",
       " ('music', 'NN'),\n",
       " ('streaming', 'NN'),\n",
       " ('services', 'NNS'),\n",
       " ('were', 'VBD'),\n",
       " ('a', 'DT'),\n",
       " ('mere', 'JJ'),\n",
       " ('gleam', 'NN'),\n",
       " ('in', 'IN'),\n",
       " ('the', 'DT'),\n",
       " ('eye', 'NN'),\n",
       " ('of', 'IN'),\n",
       " ('industry', 'NN'),\n",
       " ('executives', 'NNS'),\n",
       " ('.', '.')]"
      ]
     },
     "execution_count": 22,
     "metadata": {},
     "output_type": "execute_result"
    }
   ],
   "source": [
    "nltk.pos_tag(words)"
   ]
  },
  {
   "cell_type": "code",
   "execution_count": 23,
   "metadata": {
    "collapsed": false
   },
   "outputs": [
    {
     "name": "stdout",
     "output_type": "stream",
     "text": [
      "The/DT clock/NN is/VBZ ticking/VBG for/IN Spotify/NNP\n",
      "It/PRP 's/VBZ amazing/JJ to/TO think/VB that/DT just/RB 10/CD years/NNS ago/RB ,/, flat-rate/JJ digital/JJ music/NN streaming/NN services/NNS were/VBD a/DT mere/JJ gleam/NN in/IN the/DT eye/NN of/IN industry/NN executives/NNS ./.\n",
      "It/PRP was/VBD as/RB recently/RB as/IN September/NNP 2007/CD that/IN Rick/NNP Rubin/NNP ,/, then/RB co-head/NN of/IN Columbia/NNP Records/NNPS ,/, put/VB forward/RP the/DT idea/NN as/IN a/DT way/NN of/IN combating/VBG online/JJ music/NN piracy/NN and/CC file-sharing/NN ./.\n",
      "``/`` You/PRP 'd/MD pay/VB ,/, say/VB ,/, $/$ 19.95/CD a/DT month/NN ,/, and/CC the/DT music/NN will/MD come/VB from/IN anywhere/RB you/PRP 'd/MD like/VB ,/, ''/'' he/PRP told/VBD the/DT New/NNP York/NNP Times/NNP ./.\n",
      "``/`` In/IN this/DT new/JJ world/NN ,/, there/EX will/MD be/VB a/DT virtual/JJ library/NN that/WDT will/MD be/VB accessible/JJ from/IN your/PRP$ car/NN ,/, from/IN your/PRP$ cell/NN phone/NN ,/, from/IN your/PRP$ computer/NN ,/, from/IN your/PRP$ television/NN ./. ''/''\n",
      "As/IN it/PRP turned/VBD out/RP ,/, he/PRP was/VBD essentially/RB describing/VBG Spotify/NNP ,/, which/WDT launched/VBD just/RB over/IN a/DT year/NN later/RB ./.\n",
      "He/PRP even/RB got/VBD the/DT price/NN right/NN ./. In/IN those/DT heady/JJ days/NNS ,/, when/WRB the/DT pound/NN was/VBD a/DT lot/NN stronger/JJR ,/, $/$ 19.95/CD was/VBD equivalent/JJ to/TO £10/VB ,/, which/WDT ,/, give/VB or/CC take/VB a/DT penny/NN ,/, is/VBZ the/DT monthly/JJ cost/NN of/IN Spotify/NNP Premium/NNP in/IN the/DT UK/NNP today/NN ./.\n",
      "But/CC Spotify/NNP is/VBZ yet/RB to/TO make/VB a/DT profit/NN ,/, while/IN plans/NNS to/TO float/VB the/DT firm/NN on/IN the/DT stock/NN market/NN have/VBP reportedly/RB been/VBN delayed/VBN ,/, raising/VBG a/DT big/JJ question/NN mark/NN over/IN its/PRP$ business/NN model/NN ./.\n",
      "Industry/NN accolade/VBD\n",
      "Of/IN course/NN ,/, Spotify/NNP is/VBZ n't/RB the/DT only/JJ streaming/NN platform/NN out/IN there/RB ./. Others/NNS have/VBP joined/VBN it/PRP over/IN the/DT past/JJ decade/NN ,/, including/VBG Apple/NNP Music/NNP ,/, Amazon/NNP Prime/NNP Music/NNP and/CC Deezer/NNP ,/, as/RB well/RB as/IN high-resolution/NN music/NN services/NNS Tidal/NNP and/CC Qobuz/NNP ./.\n",
      "But/CC Spotify/NNP is/VBZ seen/VBN as/IN the/DT leader/NN ,/, with/IN more/JJR than/IN 100/CD million/CD users/NNS ,/, 40/CD million/CD of/IN them/PRP paid-up/JJ subscribers/NNS to/TO its/PRP$ Premium/NNP tier/NN ./.\n",
      "The/DT Swedish/JJ firm/NN is/VBZ now/RB a/DT major/JJ player/NN in/IN 60/CD countries/NNS ,/, including/VBG the/DT world/NN 's/POS biggest/JJS music/NN market/NN ,/, the/DT US/NNP ,/, where/WRB streaming/VBG accounted/VBD for/IN 51/CD %/NN of/IN music/NN consumption/NN last/JJ year/NN ./.\n",
      "Reflecting/VBG the/DT huge/JJ impact/NN that/IN Spotify/NNP has/VBZ had/VBN ,/, its/PRP$ chief/JJ executive/NN ,/, Daniel/NNP Ek/NNP ,/, has/VBZ just/RB topped/VBN US/NNP music/NN industry/NN magazine/NN Billboard/NNP 's/POS latest/JJS Power/NN 100/CD list/NN of/IN the/DT biggest/JJS movers/NNS and/CC shakers/NNS in/IN the/DT business/NN ./.\n",
      "``/`` For/IN the/DT first/JJ time/NN since/IN [/JJ former/JJ file-sharing/JJ service/NN ]/NNP Napster/NNP decimated/VBD music/NN sales/NNS ,/, the/DT recorded/JJ music/NN industry/NN is/VBZ showing/VBG signs/NNS of/IN growth/NN ,/, and/CC that/IN reversal/NN of/IN fortune/NN is/VBZ largely/RB due/JJ to/TO one/CD man/NN ,/, ''/'' Billboard/NNP said/VBD in/IN its/PRP$ citation/NN ./.\n",
      "The/DT magazine/NN also/RB hailed/VBD Spotify/NNP as/IN ``/`` the/DT place/NN fans/NNS discover/RB music/NN as/RB well/RB as/IN consume/NN it/PRP ''/'' ,/, pointing/VBG to/TO its/PRP$ promoted/JJ playlists/NNS ,/, including/VBG its/PRP$ Discover/NNP Weekly/NNP service/NN ./.\n",
      "Royalty/NN woes/NNS\n",
      "However/RB ,/, the/DT clock/NN is/VBZ ticking/VBG for/IN Spotify/NNP as/IN it/PRP hatches/VBZ its/PRP$ plans/NNS to/TO go/VB public/JJ ./.\n",
      "The/DT firm/NN originally/RB planned/VBN to/TO float/VB this/DT year/NN ,/, but/CC according/VBG to/TO the/DT TechCrunch/NNP website/NN ,/, this/DT could/MD now/RB be/VB delayed/VBN until/IN 2018/CD ./.\n",
      "There/EX are/VBP various/JJ issues/NNS behind/IN this/DT move/NN ,/, not/RB least/JJS of/IN which/WDT is/VBZ that/IN Spotify/NNP needs/VBZ to/TO conclude/VB new/JJ long-term/JJ licensing/NN deals/NNS with/IN the/DT big/JJ three/CD record/NN companies/NNS -/: Universal/NNP ,/, Sony/NNP and/CC Warner/NNP -/: to/TO avoid/VB the/DT risk/NN of/IN suddenly/RB losing/VBG major/JJ chunks/NNS of/IN its/PRP$ content/NN ./.\n",
      "It/PRP 's/VBZ thought/VBN that/IN Spotify/NNP currently/RB pays/VBZ 55/CD %/NN of/IN its/PRP$ revenue/NN to/TO record/NN labels/NNS in/IN royalties/NNS ,/, with/IN additional/JJ money/NN going/VBG to/TO music/NN publishers/NNS ./.\n",
      "In/IN the/DT interest/NN of/IN finally/RB becoming/VBG a/DT profitable/JJ company/NN ,/, it/PRP would/MD like/VB to/TO lower/VB that/DT percentage/NN ,/, but/CC this/DT is/VBZ unlikely/JJ to/TO go/VB down/RP well/RB with/IN artists/NNS ,/, who/WP argue/VBP that/IN the/DT royalties/NNS they/PRP receive/VBP from/IN streaming/VBG are/VBP unfairly/RB low/JJ as/IN it/PRP is/VBZ ./.\n",
      "Brutal/NNP arithmetic/JJ\n",
      "But/CC if/IN it/PRP waits/VBZ too/RB long/JJ before/IN floating/VBG ,/, it/PRP could/MD face/VB a/DT serious/JJ cash/NN crisis/NN ./.\n",
      "In/IN March/NNP last/JJ year/NN ,/, the/DT firm/NN raised/VBD $/$ 1bn/CD from/IN investors/NNS at/IN an/DT interest/NN rate/NN of/IN 5/CD %/NN a/DT year/NN ,/, plus/CC a/DT discount/NN of/IN 20/CD %/NN on/IN shares/NNS once/RB the/DT initial/JJ public/JJ offering/NN (/( IPO/NNP )/) of/IN shares/NNS takes/VBZ place/NN ./.\n",
      "However/RB ,/, under/IN the/DT terms/NNS of/IN the/DT agreement/NN ,/, the/DT interest/NN rate/NN goes/VBZ up/RP by/IN one/CD percentage/NN point/NN and/CC the/DT discount/NN by/IN 2.5/CD percentage/NN points/NNS every/DT six/CD months/NNS until/IN the/DT IPO/NNP happens/VBZ ./.\n",
      "So/RB as/IN time/NN goes/VBZ on/IN ,/, Spotify/NNP must/MD pay/VB ever/RB larger/JJR sums/NNS to/TO its/PRP$ creditors/NNS just/RB to/TO settle/VB the/DT interest/NN on/IN its/PRP$ loan/NN ,/, while/IN the/DT amount/NN of/IN money/NN it/PRP can/MD raise/VB from/IN its/PRP$ IPO/NNP is/VBZ trimmed/VBN by/IN an/DT ever/RB greater/JJR amount/NN ./.\n",
      "Unless/IN Mr/NNP Ek/NNP can/MD get/VB the/DT better/JJR of/IN this/DT brutal/JJ arithmetic/JJ ,/, the/DT future/NN looks/VBZ tough/JJ for/IN Spotify/NNP ./.\n",
      "But/CC at/IN the/DT same/JJ time/NN ,/, as/IN Billboard/NNP says/VBZ ,/, ``/`` the/DT entire/JJ music/NN business/NN now/RB has/VBZ an/DT interest/NN in/IN its/PRP$ success/NN ''/'' ./.\n",
      "``/`` If/IN it/PRP 's/VBZ not/RB already/RB too/RB big/JJ to/TO fail/VB ,/, it/PRP 's/VBZ headed/VBN in/IN that/DT direction/NN quickly/RB ,/, ''/'' concludes/VBZ the/DT magazine/NN ./.\n"
     ]
    }
   ],
   "source": [
    "for sent in nltk.pos_tag_sents(word_tokenize(sent) for sent in sents):\n",
    "    print(' '.join('{0}/{1}'.format(word, pos) for word, pos in sent))"
   ]
  },
  {
   "cell_type": "markdown",
   "metadata": {},
   "source": [
    "# spaCy\n",
    "Industrial-strength Natural Language Processing (NLP) with Python and Cython\n",
    "\n",
    "Homepage: https://spacy.io\n",
    "\n",
    "Github: https://github.com/explosion/spaCy"
   ]
  },
  {
   "cell_type": "markdown",
   "metadata": {},
   "source": [
    "### Install spaCy"
   ]
  },
  {
   "cell_type": "code",
   "execution_count": null,
   "metadata": {
    "collapsed": false,
    "scrolled": true
   },
   "outputs": [],
   "source": [
    "!pip3 install -U spaCy"
   ]
  },
  {
   "cell_type": "markdown",
   "metadata": {},
   "source": [
    "### Download language models"
   ]
  },
  {
   "cell_type": "code",
   "execution_count": null,
   "metadata": {
    "collapsed": false
   },
   "outputs": [],
   "source": [
    "!python3 -m spacy.en.download all"
   ]
  },
  {
   "cell_type": "markdown",
   "metadata": {},
   "source": [
    "### Using spaCy"
   ]
  },
  {
   "cell_type": "markdown",
   "metadata": {},
   "source": [
    "Load language data might take some time..."
   ]
  },
  {
   "cell_type": "code",
   "execution_count": 41,
   "metadata": {
    "collapsed": true
   },
   "outputs": [],
   "source": [
    "import spacy\n",
    "nlp = spacy.load('en')"
   ]
  },
  {
   "cell_type": "code",
   "execution_count": 49,
   "metadata": {
    "collapsed": false,
    "scrolled": true
   },
   "outputs": [
    {
     "name": "stdout",
     "output_type": "stream",
     "text": [
      "The/DET clock/NOUN is/VERB ticking/VERB for/ADP Spotify/PROPN \n"
     ]
    }
   ],
   "source": [
    "for t in sents:\n",
    "    doc = nlp(t)\n",
    "    for sent in doc.sents:\n",
    "        for token in sent:\n",
    "            print('{}/{}'.format(token, token.pos_), end=' ')\n",
    "        print()"
   ]
  },
  {
   "cell_type": "code",
   "execution_count": 50,
   "metadata": {
    "collapsed": false
   },
   "outputs": [
    {
     "name": "stdout",
     "output_type": "stream",
     "text": [
      "The/DET clock/NOUN is/VERB ticking/VERB for/ADP Spotify/PROPN \n",
      "/SPACE \n"
     ]
    }
   ],
   "source": [
    "doc = nlp(text)\n",
    "for sent in doc.sents:\n",
    "    for token in sent:\n",
    "        print('{}/{}'.format(token, token.pos_), end=' ')\n",
    "    print()"
   ]
  },
  {
   "cell_type": "code",
   "execution_count": null,
   "metadata": {
    "collapsed": true
   },
   "outputs": [],
   "source": []
  }
 ],
 "metadata": {
  "anaconda-cloud": {},
  "kernelspec": {
   "display_name": "Python [default]",
   "language": "python",
   "name": "python2"
  },
  "language_info": {
   "codemirror_mode": {
    "name": "ipython",
    "version": 2
   },
   "file_extension": ".py",
   "mimetype": "text/x-python",
   "name": "python",
   "nbconvert_exporter": "python",
   "pygments_lexer": "ipython2",
   "version": "2.7.13"
  }
 },
 "nbformat": 4,
 "nbformat_minor": 1
}
